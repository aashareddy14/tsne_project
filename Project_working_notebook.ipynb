{
 "cells": [
  {
   "cell_type": "code",
   "execution_count": 1,
   "metadata": {
    "scrolled": false
   },
   "outputs": [
    {
     "ename": "ModuleNotFoundError",
     "evalue": "No module named 'numpy'",
     "output_type": "error",
     "traceback": [
      "\u001B[1;31m---------------------------------------------------------------------------\u001B[0m",
      "\u001B[1;31mModuleNotFoundError\u001B[0m                       Traceback (most recent call last)",
      "\u001B[1;32m<ipython-input-1-0ff98941580f>\u001B[0m in \u001B[0;36m<module>\u001B[1;34m\u001B[0m\n\u001B[1;32m----> 1\u001B[1;33m \u001B[1;32mimport\u001B[0m \u001B[0mnumpy\u001B[0m \u001B[1;32mas\u001B[0m \u001B[0mnp\u001B[0m\u001B[1;33m\u001B[0m\u001B[1;33m\u001B[0m\u001B[0m\n\u001B[0m\u001B[0;32m      2\u001B[0m \u001B[1;32mimport\u001B[0m \u001B[0mpandas\u001B[0m \u001B[1;32mas\u001B[0m \u001B[0mpd\u001B[0m\u001B[1;33m\u001B[0m\u001B[1;33m\u001B[0m\u001B[0m\n\u001B[0;32m      3\u001B[0m \u001B[1;32mfrom\u001B[0m \u001B[0msklearn\u001B[0m \u001B[1;32mimport\u001B[0m \u001B[0mdatasets\u001B[0m\u001B[1;33m\u001B[0m\u001B[1;33m\u001B[0m\u001B[0m\n\u001B[0;32m      4\u001B[0m \u001B[1;32mfrom\u001B[0m \u001B[0msklearn\u001B[0m\u001B[1;33m.\u001B[0m\u001B[0mdecomposition\u001B[0m \u001B[1;32mimport\u001B[0m \u001B[0mPCA\u001B[0m\u001B[1;33m\u001B[0m\u001B[1;33m\u001B[0m\u001B[0m\n\u001B[0;32m      5\u001B[0m \u001B[1;32mimport\u001B[0m \u001B[0mmath\u001B[0m\u001B[1;33m\u001B[0m\u001B[1;33m\u001B[0m\u001B[0m\n",
      "\u001B[1;31mModuleNotFoundError\u001B[0m: No module named 'numpy'"
     ]
    }
   ],
   "source": [
    "import numpy as np\n",
    "import pandas as pd\n",
    "from sklearn import datasets\n",
    "from sklearn.decomposition import PCA\n",
    "import math\n",
    "import scipy.linalg as la\n",
    "from keras.datasets.mnist import load_data\n",
    "import matplotlib.pyplot as plt\n",
    "import seaborn as sns\n",
    "from scipy.spatial import distance"
   ]
  },
  {
   "cell_type": "code",
   "execution_count": null,
   "metadata": {},
   "outputs": [],
   "source": [
    "iris = sns.load_dataset('iris')\n",
    "iris"
   ]
  },
  {
   "cell_type": "code",
   "execution_count": null,
   "metadata": {},
   "outputs": [],
   "source": [
    "# matrix data\n",
    "X = np.array(iris[['sepal_length', 'sepal_width', 'petal_length', 'petal_width']])\n",
    "specs = np.array(iris['species'])"
   ]
  },
  {
   "cell_type": "code",
   "execution_count": null,
   "metadata": {},
   "outputs": [],
   "source": [
    "# load iris dataset, which will serve as test dataset for building the algorithm\n",
    "#iris = datasets.load_iris()\n",
    "\n",
    "# Just to show the first 5 rows of iris dataset\n",
    "#df = pd.DataFrame(iris.data, columns=iris.feature_names)\n",
    "#df.head()\n",
    "#X = iris.data\n"
   ]
  },
  {
   "cell_type": "code",
   "execution_count": null,
   "metadata": {},
   "outputs": [],
   "source": [
    "def squared_euc_dist(X):\n",
    "    \"\"\"Calculate squared euclidean distance for all pairs in a data matrix X with d dimensions and n rows.\n",
    "    Output is a pairwise distance matrix D that is nxn.\n",
    "    \"\"\"\n",
    "    D = distance.squareform(distance.pdist(X, 'sqeuclidean'))\n",
    "    return D"
   ]
  },
  {
   "cell_type": "code",
   "execution_count": null,
   "metadata": {},
   "outputs": [],
   "source": [
    "def p_cond(d_matrix, sigmas):\n",
    "    \"\"\"Convert a distances matrix to a matrix of conditional probabilities.\"\"\"\n",
    "\n",
    "    sig_2 = np.square(sigmas.reshape((-1, 1)))\n",
    "    P_cond = np.exp((d_matrix / (2 * sig_2)) - np.max((d_matrix / (2 * sig_2)), axis=1).reshape([-1, 1]))\n",
    "\n",
    "    # set p_i|i = 0\n",
    "    np.fill_diagonal(P_cond, 0.)\n",
    "\n",
    "    P_cond = (P_cond +  1e-10)/ (P_cond + 1e-10).sum(axis=1).reshape([-1, 1])\n",
    "\n",
    "    return P_cond"
   ]
  },
  {
   "cell_type": "code",
   "execution_count": null,
   "metadata": {},
   "outputs": [],
   "source": [
    "def binary_search(eval_fn, target, tol=1e-10, max_iter=10000,\n",
    "                  lower=1e-20, upper=1000.):\n",
    "    \"\"\"Perform a binary search over input values to eval_fn.\n",
    "\n",
    "    # Arguments\n",
    "        eval_fn: Function that we are optimising over.\n",
    "        target: Target value we want the function to output.\n",
    "        tol: Float, once our guess is this close to target, stop.\n",
    "        max_iter: Integer, maximum num. iterations to search for.\n",
    "        lower: Float, lower bound of search range.\n",
    "        upper: Float, upper bound of search range.\n",
    "    # Returns:\n",
    "        Float, best input value to function found during search.\n",
    "    \"\"\"\n",
    "    for i in range(max_iter):\n",
    "        mid = (lower + upper) / 2.\n",
    "        val = eval_fn(mid)\n",
    "        if val > target:\n",
    "            upper = mid\n",
    "        else:\n",
    "            lower = mid\n",
    "        if np.abs(val - target) <= tol:\n",
    "            break\n",
    "    return mid"
   ]
  },
  {
   "cell_type": "code",
   "execution_count": null,
   "metadata": {},
   "outputs": [],
   "source": [
    "def perp(d_matrix, sigmas):\n",
    "    \"\"\"calculate perplexity from distance matrix, sigmas, and conditional probability matrix.\"\"\"\n",
    "    P = p_cond(d_matrix, sigmas)\n",
    "    entropy = -np.sum(P * np.log2(P), axis = 1)\n",
    "    perplexity = 2 ** entropy\n",
    "\n",
    "    return perplexity\n",
    "\n",
    "def find_optimal_sigmas(d_matrix, target_perplexity):\n",
    "    \"\"\"For each row of distances matrix, find sigma that results\n",
    "    in target perplexity for that role.\"\"\"\n",
    "    sigmas = []\n",
    "    # For each row of the matrix (each point in our dataset)\n",
    "    for i in range(d_matrix.shape[0]):\n",
    "        # Make fn that returns perplexity of this row given sigma\n",
    "        eval_fn = lambda sigma: \\\n",
    "            perp(d_matrix[i:i+1, :], np.array(sigma))\n",
    "        # Binary search over sigmas to achieve target perplexity\n",
    "        correct_sigma = binary_search(eval_fn, target_perplexity)\n",
    "        # Append the resulting sigma to our output array\n",
    "        sigmas.append(correct_sigma)\n",
    "    return np.array(sigmas)\n",
    "\n"
   ]
  },
  {
   "cell_type": "code",
   "execution_count": null,
   "metadata": {},
   "outputs": [],
   "source": [
    "def q_ij(Y):\n",
    "    \"\"\"Calculate joint probabilities over all points given Y, the low-dimensional map of data points. (pg. 2585)\"\"\"\n",
    "\n",
    "    numerator = np.power(1. + (squared_euc_dist(Y)), -1)\n",
    "    Q = numerator / np.sum(numerator)\n",
    "\n",
    "    # q_i|i = 0\n",
    "    np.fill_diagonal(Q, 0.)\n",
    "\n",
    "    return Q"
   ]
  },
  {
   "cell_type": "code",
   "execution_count": null,
   "metadata": {},
   "outputs": [],
   "source": [
    "def p_ij(X, target_perplexity):\n",
    "    \"\"\"Calculate joint probabilities in the high dimensional space given data matrix X\n",
    "    and a target perplexity to find optimal sigmas (pg. 2584).\n",
    "    \"\"\"\n",
    "\n",
    "    d_matrix = -squared_euc_dist(X)\n",
    "\n",
    "    # optimal sigma for each row of distance matrix\n",
    "    sigmas = find_optimal_sigmas(d_matrix, target_perplexity)\n",
    "\n",
    "    # conditional p matrix from optimal sigmas\n",
    "    p_conditional = p_cond(d_matrix, sigmas)\n",
    "\n",
    "    # convert conditional P to joint P matrix (pg. 2584)\n",
    "    n = p_conditional.shape[0]\n",
    "    p_joint = (p_conditional + p_conditional.T) / (2. * n)\n",
    "\n",
    "    return p_joint\n"
   ]
  },
  {
   "cell_type": "code",
   "execution_count": null,
   "metadata": {},
   "outputs": [],
   "source": [
    "def grad_C(P, Q, Y):\n",
    "    \"\"\"Calculate gradient of cost function (KL) with respect to lower dimensional map points Y (pg. 2586)\"\"\"\n",
    "\n",
    "    pq_diff = (P-Q)[:, :, np.newaxis]\n",
    "\n",
    "    y_diff = Y[:, np.newaxis, :] - Y[np.newaxis, :, :]\n",
    "\n",
    "    y_dist = (np.power(1. + (squared_euc_dist(Y)), -1))[:, :, np.newaxis]\n",
    "\n",
    "    grad = 4. * (pq_diff * y_diff * y_dist).sum(axis = 1)\n",
    "\n",
    "    return grad"
   ]
  },
  {
   "cell_type": "code",
   "execution_count": null,
   "metadata": {},
   "outputs": [],
   "source": [
    "def tsne_opt(X, num_iters = 1000, perplexity = 30, alpha = 10, momentum = 0.9):\n",
    "    \"\"\"Calculate Y, the optimal low-dimensional representation of data matrix X using optimized TSNE.\n",
    "\n",
    "    Inputs:\n",
    "        X: data matrix\n",
    "        num_iters: number of iterations\n",
    "        perplexity: target perplexity for calculating optimal sigmas for P probability matrix\n",
    "        alpha: learning rate\n",
    "        momentum: momentum to speed up gradient descent algorithm\n",
    "    \"\"\"\n",
    "\n",
    "    # Initialize Y\n",
    "    Y = (np.random.RandomState(1)).normal(0., 0.0001, [X.shape[0], 2])\n",
    "\n",
    "    P = p_ij(X, perplexity)\n",
    "\n",
    "    # Initialise past y_t-1 and y_t-2 values (used for momentum)\n",
    "    Y_tmin2 = Y\n",
    "    Y_tmin1 = Y\n",
    "\n",
    "    # gradient descent with momentum\n",
    "    for i in range(num_iters):\n",
    "\n",
    "        Q = q_ij(Y)\n",
    "        grad = grad_C(P, Q, Y)\n",
    "\n",
    "        # Update Y using momentum (pg. 2587)\n",
    "        Y = (Y - alpha * grad) +  (momentum * (Y_tmin1 - Y_tmin2))\n",
    "\n",
    "        # update values of y_t-1 and y_t-2\n",
    "        Y_tmin2 = Y_tmin1\n",
    "        Y_tmin1 = Y\n",
    "\n",
    "    return Y\n"
   ]
  },
  {
   "cell_type": "code",
   "execution_count": null,
   "metadata": {},
   "outputs": [],
   "source": [
    "yout = tsne_opt(X)\n",
    "yout"
   ]
  },
  {
   "cell_type": "code",
   "execution_count": null,
   "metadata": {
    "scrolled": true
   },
   "outputs": [],
   "source": [
    "yout.shape"
   ]
  },
  {
   "cell_type": "code",
   "execution_count": null,
   "metadata": {
    "scrolled": false
   },
   "outputs": [],
   "source": [
    "sns.scatterplot(yout[:,0], yout[:,1], hue = specs)"
   ]
  },
  {
   "cell_type": "code",
   "execution_count": null,
   "metadata": {},
   "outputs": [],
   "source": []
  },
  {
   "cell_type": "markdown",
   "metadata": {},
   "source": [
    "#### Test on Mnist data as well"
   ]
  },
  {
   "cell_type": "code",
   "execution_count": null,
   "metadata": {},
   "outputs": [],
   "source": []
  },
  {
   "cell_type": "code",
   "execution_count": null,
   "metadata": {},
   "outputs": [],
   "source": []
  },
  {
   "cell_type": "code",
   "execution_count": null,
   "metadata": {},
   "outputs": [],
   "source": []
  },
  {
   "cell_type": "code",
   "execution_count": null,
   "metadata": {},
   "outputs": [],
   "source": []
  },
  {
   "cell_type": "code",
   "execution_count": null,
   "metadata": {},
   "outputs": [],
   "source": []
  },
  {
   "cell_type": "code",
   "execution_count": null,
   "metadata": {},
   "outputs": [],
   "source": []
  },
  {
   "cell_type": "code",
   "execution_count": null,
   "metadata": {},
   "outputs": [],
   "source": []
  },
  {
   "cell_type": "code",
   "execution_count": null,
   "metadata": {},
   "outputs": [],
   "source": []
  },
  {
   "cell_type": "code",
   "execution_count": null,
   "metadata": {},
   "outputs": [],
   "source": []
  },
  {
   "cell_type": "code",
   "execution_count": null,
   "metadata": {},
   "outputs": [],
   "source": []
  },
  {
   "cell_type": "code",
   "execution_count": null,
   "metadata": {},
   "outputs": [],
   "source": []
  }
 ],
 "metadata": {
  "kernelspec": {
   "display_name": "Python 3",
   "language": "python",
   "name": "python3"
  },
  "language_info": {
   "codemirror_mode": {
    "name": "ipython",
    "version": 3
   },
   "file_extension": ".py",
   "mimetype": "text/x-python",
   "name": "python",
   "nbconvert_exporter": "python",
   "pygments_lexer": "ipython3",
   "version": "3.6.10"
  }
 },
 "nbformat": 4,
 "nbformat_minor": 2
}