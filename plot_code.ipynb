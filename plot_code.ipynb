{
 "cells": [
  {
   "cell_type": "code",
   "execution_count": null,
   "metadata": {},
   "outputs": [],
   "source": [
    "def tsne_plot(Y, color_by, ms=3, alpha=0.5, savename=None):\n",
    "\n",
    "    fig, ax = plt.subplots()\n",
    "\n",
    "    cats = list(np.unique(color_by))\n",
    "    markers = 'os' * len(cats)\n",
    "    colors = plt.cm.rainbow(np.linspace(0,1,len(cats)))\n",
    "\n",
    "    for i, col in enumerate(cats):\n",
    "        mark = markers[i]\n",
    "        ax.plot(Y[color_by == col, 0], Y[color_by == col, 1], marker=mark, \n",
    "            linestyle='', ms=ms, label=str(col), alpha=alpha, color=colors[i])\n",
    "    \n",
    "    ax.legend()\n",
    "        \n",
    "    if savename is not None:\n",
    "        plt.tight_layout()\n",
    "        plt.savefig(savename)\n",
    "    \n",
    "    plt.show()\n",
    "    \n",
    "    return ax"
   ]
  }
 ],
 "metadata": {
  "kernelspec": {
   "display_name": "Python 3",
   "language": "python",
   "name": "python3"
  },
  "language_info": {
   "codemirror_mode": {
    "name": "ipython",
    "version": 3
   },
   "file_extension": ".py",
   "mimetype": "text/x-python",
   "name": "python",
   "nbconvert_exporter": "python",
   "pygments_lexer": "ipython3",
   "version": "3.6.10"
  }
 },
 "nbformat": 4,
 "nbformat_minor": 2
}
